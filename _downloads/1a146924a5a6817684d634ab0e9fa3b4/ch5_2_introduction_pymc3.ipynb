{
  "cells": [
    {
      "cell_type": "code",
      "execution_count": null,
      "metadata": {
        "collapsed": false
      },
      "outputs": [],
      "source": [
        "%matplotlib inline\nfrom pyvista import set_plot_theme\nset_plot_theme('document')"
      ]
    },
    {
      "cell_type": "markdown",
      "metadata": {},
      "source": [
        "\n5 2 - Introduction PyMC3.\n=========================\n"
      ]
    },
    {
      "cell_type": "code",
      "execution_count": null,
      "metadata": {
        "collapsed": false
      },
      "outputs": [],
      "source": [
        "# Importing GemPy\nimport gempy as gp\n\n# Importing auxiliary libraries\nimport os\nimport numpy as np\nimport matplotlib.pyplot as plt\nimport pymc3 as pm\nimport arviz as az\n\nfrom gempy.bayesian import plot_posterior as pp\nfrom importlib import reload\nfrom matplotlib.ticker import StrMethodFormatter"
      ]
    },
    {
      "cell_type": "markdown",
      "metadata": {},
      "source": [
        "Model definition\n----------------\n\n\n"
      ]
    },
    {
      "cell_type": "markdown",
      "metadata": {},
      "source": [
        "This is to make it work in sphinx gallery\n\n"
      ]
    },
    {
      "cell_type": "code",
      "execution_count": null,
      "metadata": {
        "collapsed": false
      },
      "outputs": [],
      "source": [
        "cwd = os.getcwd()\nif not 'examples' in cwd:\n    path_dir = os.getcwd()+'/examples/tutorials/ch5_probabilistic_modeling'\nelse:\n    path_dir = cwd"
      ]
    },
    {
      "cell_type": "code",
      "execution_count": null,
      "metadata": {
        "collapsed": false
      },
      "outputs": [],
      "source": [
        "geo_model = gp.load_model(r'/2-layers', path=path_dir+'/2-layers', recompile=True)"
      ]
    },
    {
      "cell_type": "code",
      "execution_count": null,
      "metadata": {
        "collapsed": false
      },
      "outputs": [],
      "source": [
        "geo_model.modify_surface_points(2, Z=1000)\ngp.compute_model(geo_model)"
      ]
    },
    {
      "cell_type": "code",
      "execution_count": null,
      "metadata": {
        "collapsed": false
      },
      "outputs": [],
      "source": [
        "def plot_geo_setting_well():\n    device_loc = np.array([[6e3, 0, 3700]])\n    p2d = gp.plot_2d(geo_model, show_topography=True, legend=False)\n\n    well_1 = 3.41e3\n    well_2 = 3.6e3\n    p2d.axes[0].scatter([3e3], [well_1], marker='^', s=400, c='#71a4b3', zorder=10)\n    p2d.axes[0].scatter([9e3], [well_2], marker='^', s=400, c='#71a4b3', zorder=10)\n    p2d.axes[0].scatter(device_loc[:, 0], device_loc[:, 2], marker='x', s=400, c='#DA8886', zorder=10)\n\n    p2d.axes[0].vlines(3e3, .5e3, well_1, linewidth=4, color='gray')\n    p2d.axes[0].vlines(9e3, .5e3, well_2, linewidth=4, color='gray')\n    p2d.axes[0].vlines(3e3, .5e3, well_1)\n    p2d.axes[0].vlines(9e3, .5e3, well_2)\n    p2d.axes[0].set_xlim(2900, 3100)\n    plt.savefig('well.svg')\n    plt.show()"
      ]
    },
    {
      "cell_type": "code",
      "execution_count": null,
      "metadata": {
        "collapsed": false
      },
      "outputs": [],
      "source": [
        "plot_geo_setting_well()\n\n# Thickness measurements\n# ----------------------"
      ]
    },
    {
      "cell_type": "code",
      "execution_count": null,
      "metadata": {
        "collapsed": false
      },
      "outputs": [],
      "source": [
        "y_obs = [2.12]\ny_obs_list = [2.12, 2.06, 2.08, 2.05, 2.08, 2.09,\n              2.19, 2.07, 2.16, 2.11, 2.13, 1.92]\nnp.random.seed(4003)"
      ]
    },
    {
      "cell_type": "markdown",
      "metadata": {},
      "source": [
        "Normal-several points\n~~~~~~~~~~~~~~~~~~~~~\n![](/../../_static/computational_graph1.png)\n\n\n\n"
      ]
    },
    {
      "cell_type": "code",
      "execution_count": null,
      "metadata": {
        "collapsed": false
      },
      "outputs": [],
      "source": [
        "with pm.Model() as model:\n    mu = pm.Normal('$\\mu$', 2.08, .07)\n    sigma = pm.Gamma('$\\sigma$', 0.3, 3)\n    y = pm.Normal('$y$', mu, sigma, observed=y_obs_list)"
      ]
    },
    {
      "cell_type": "code",
      "execution_count": null,
      "metadata": {
        "collapsed": false
      },
      "outputs": [],
      "source": [
        "mu"
      ]
    },
    {
      "cell_type": "code",
      "execution_count": null,
      "metadata": {
        "collapsed": false
      },
      "outputs": [],
      "source": [
        "sigma"
      ]
    },
    {
      "cell_type": "code",
      "execution_count": null,
      "metadata": {
        "collapsed": false
      },
      "outputs": [],
      "source": [
        "y"
      ]
    },
    {
      "cell_type": "markdown",
      "metadata": {},
      "source": [
        "Sampling\n--------\n\n\n"
      ]
    },
    {
      "cell_type": "code",
      "execution_count": null,
      "metadata": {
        "collapsed": false
      },
      "outputs": [],
      "source": [
        "with model:\n    prior = pm.sample_prior_predictive(1000)\n    trace = pm.sample(1000, discard_tuned_samples=False, cores=1)\n    post = pm.sample_posterior_predictive(trace)"
      ]
    },
    {
      "cell_type": "code",
      "execution_count": null,
      "metadata": {
        "collapsed": false
      },
      "outputs": [],
      "source": [
        "data = az.from_pymc3(trace=trace,\n                     prior=prior,\n                     posterior_predictive=post)"
      ]
    },
    {
      "cell_type": "code",
      "execution_count": null,
      "metadata": {
        "collapsed": false
      },
      "outputs": [],
      "source": [
        "az.plot_trace(data)\nplt.show()"
      ]
    },
    {
      "cell_type": "markdown",
      "metadata": {},
      "source": [
        "Raw observations:\n^^^^^^^^^^^^^^^^^\n\n\n"
      ]
    },
    {
      "cell_type": "code",
      "execution_count": null,
      "metadata": {
        "collapsed": false
      },
      "outputs": [],
      "source": [
        "reload(pp)\np = pp.PlotPosterior(data)\np.create_figure(figsize=(9, 3), joyplot=False, marginal=False)\np.plot_normal_likelihood('$\\mu$', '$\\sigma$', '$y$', iteration=-1, hide_bell=True)\np.likelihood_axes.set_xlim(1.90, 2.2)\np.likelihood_axes.xaxis.set_major_formatter(StrMethodFormatter('{x:,.2f}'))\nfor tick in p.likelihood_axes.get_xticklabels():\n    tick.set_rotation(45)\nplt.show()"
      ]
    },
    {
      "cell_type": "markdown",
      "metadata": {},
      "source": [
        "Final inference\n^^^^^^^^^^^^^^^\n\n\n"
      ]
    },
    {
      "cell_type": "code",
      "execution_count": null,
      "metadata": {
        "collapsed": false
      },
      "outputs": [],
      "source": [
        "reload(pp)\np = pp.PlotPosterior(data)\np.create_figure(figsize=(9, 3), joyplot=False, marginal=False)\np.plot_normal_likelihood('$\\mu$', '$\\sigma$', '$y$', iteration=-1, hide_lines=True)\np.likelihood_axes.set_xlim(1.70, 2.40)\np.likelihood_axes.xaxis.set_major_formatter(StrMethodFormatter('{x:,.2f}'))\nfor tick in p.likelihood_axes.get_xticklabels():\n    tick.set_rotation(45)\nplt.show()"
      ]
    },
    {
      "cell_type": "markdown",
      "metadata": {},
      "source": [
        "Joyplot\n~~~~~~~\n\n\n"
      ]
    },
    {
      "cell_type": "markdown",
      "metadata": {},
      "source": [
        "%matplotlib inline\n\n"
      ]
    },
    {
      "cell_type": "code",
      "execution_count": null,
      "metadata": {
        "collapsed": false
      },
      "outputs": [],
      "source": [
        "reload(pp)\np = pp.PlotPosterior(data)\n\np.create_figure(figsize=(9, 9), joyplot=True, marginal=False, likelihood=False, n_samples=31)\np.plot_joy(('$\\mu$', '$\\sigma$'), '$y$', iteration=14)\nplt.show()"
      ]
    },
    {
      "cell_type": "markdown",
      "metadata": {},
      "source": [
        "Join probability\n~~~~~~~~~~~~~~~~\n\n\n"
      ]
    },
    {
      "cell_type": "markdown",
      "metadata": {},
      "source": [
        "sphinx_gallery_thumbnail_number = 6\n\n"
      ]
    },
    {
      "cell_type": "code",
      "execution_count": null,
      "metadata": {
        "collapsed": false
      },
      "outputs": [],
      "source": [
        "reload(pp)\np = pp.PlotPosterior(data)\n\np.create_figure(figsize=(9, 5), joyplot=False, marginal=True, likelihood=True)\np.plot_marginal(var_names=['$\\mu$', '$\\sigma$'],\n                plot_trace=False, credible_interval=.93, kind='kde')\n\np.plot_normal_likelihood('$\\mu$', '$\\sigma$', '$y$', iteration=-1, hide_lines=True)\np.likelihood_axes.set_xlim(1.70, 2.40)\nplt.show()"
      ]
    },
    {
      "cell_type": "markdown",
      "metadata": {},
      "source": [
        "Full plot\n~~~~~~~~~\n\n\n"
      ]
    },
    {
      "cell_type": "code",
      "execution_count": null,
      "metadata": {
        "collapsed": false
      },
      "outputs": [],
      "source": [
        "reload(pp)\np = pp.PlotPosterior(data)\n\np.create_figure(figsize=(9, 5), joyplot=True, marginal=True, likelihood=True, n_samples=11)\n\np.plot_posterior(['$\\mu$', '$\\sigma$'], ['$\\mu$', '$\\sigma$'], '$y$',\n                 marginal_kwargs={'plot_trace': False, 'credible_interval': .93, 'kind': 'kde'})\nplt.show()"
      ]
    }
  ],
  "metadata": {
    "kernelspec": {
      "display_name": "Python 3",
      "language": "python",
      "name": "python3"
    },
    "language_info": {
      "codemirror_mode": {
        "name": "ipython",
        "version": 3
      },
      "file_extension": ".py",
      "mimetype": "text/x-python",
      "name": "python",
      "nbconvert_exporter": "python",
      "pygments_lexer": "ipython3",
      "version": "3.7.7"
    }
  },
  "nbformat": 4,
  "nbformat_minor": 0
}