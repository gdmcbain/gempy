{
  "cells": [
    {
      "cell_type": "code",
      "execution_count": null,
      "metadata": {
        "collapsed": false
      },
      "outputs": [],
      "source": [
        "%matplotlib inline\nfrom pyvista import set_plot_theme\nset_plot_theme('document')"
      ]
    },
    {
      "cell_type": "markdown",
      "metadata": {},
      "source": [
        "\n5.3 - Probability Density Transformation.\n=========================================\n"
      ]
    },
    {
      "cell_type": "code",
      "execution_count": null,
      "metadata": {
        "collapsed": false
      },
      "outputs": [],
      "source": [
        "# Importing GemPy\nimport gempy as gp\nfrom examples.tutorials.ch5_probabilistic_modeling.aux_functions.aux_funct import plot_geo_setting_well\nfrom gempy.bayesian import plot_posterior as pp\nfrom gempy.bayesian.plot_posterior import default_red, default_blue\n\n# Importing auxiliary libraries\nimport numpy as np\nimport matplotlib.pyplot as plt\nimport pymc3 as pm\nimport arviz as az\nimport os"
      ]
    },
    {
      "cell_type": "markdown",
      "metadata": {},
      "source": [
        "Model definition\n----------------\n\nSame problem as before, let\u2019s assume the observations are layer\nthickness measurements taken on an outcrop. Now, in the previous example\nwe chose a prior for the mean arbitrarily:\n$\ud835\udf07\u223cNormal(mu=10.0, sigma=5.0)$\u2013something that made sense for these\nspecific data set. If we do not have any further information, keeping\nan uninformative prior and let the data to dictate the final value of\nthe inference is the sensible way forward. However, this also enable to\nadd information to the system by setting informative priors.\n\nImagine we get a borehole with the tops of the two interfaces of\ninterest. Each of this data point will be a random variable itself since\nthe accuracy of the exact 3D location will be always limited. Notice\nthat this two data points refer to depth not to thickness\u2013the unit of\nthe rest of the observations. Therefore, the first step would be to\nperform a transformation of the parameters into the observations space.\nNaturally in this example a simple subtraction will suffice.\n\nNow we can define the probabilistic models:\n\n\n"
      ]
    },
    {
      "cell_type": "markdown",
      "metadata": {},
      "source": [
        "This is to make it work in sphinx gallery\n\n"
      ]
    },
    {
      "cell_type": "code",
      "execution_count": null,
      "metadata": {
        "collapsed": false
      },
      "outputs": [],
      "source": [
        "cwd = os.getcwd()\nif not 'examples' in cwd:\n    path_dir = os.getcwd() + '/examples/tutorials/ch5_probabilistic_modeling'\nelse:\n    path_dir = cwd"
      ]
    },
    {
      "cell_type": "code",
      "execution_count": null,
      "metadata": {
        "collapsed": false
      },
      "outputs": [],
      "source": [
        "geo_model = gp.load_model(r'2-layers', path=path_dir+r'/2-layers', recompile=True)\nplot_geo_setting_well(geo_model=geo_model)"
      ]
    },
    {
      "cell_type": "code",
      "execution_count": null,
      "metadata": {
        "collapsed": false
      },
      "outputs": [],
      "source": [
        "y_obs = [2.12]\ny_obs_list = [2.12, 2.06, 2.08, 2.05, 2.08, 2.09,\n              2.19, 2.07, 2.16, 2.11, 2.13, 1.92]\n\nnp.random.seed(4003)"
      ]
    },
    {
      "cell_type": "markdown",
      "metadata": {},
      "source": [
        "# .. image:: /../../_static/computational_graph1.png\n\n\n"
      ]
    },
    {
      "cell_type": "code",
      "execution_count": null,
      "metadata": {
        "collapsed": false
      },
      "outputs": [],
      "source": [
        "with pm.Model() as model:\n    mu_top = pm.Normal('$\\mu_{top}$', 3.05, .2)\n    sigma_top = pm.Gamma('$\\sigma_{top}$', 0.3, 3)\n    y_top = pm.Normal('y_{top}', mu=mu_top, sd=sigma_top, observed=[3.02])\n\n    mu_bottom = pm.Normal('$\\mu_{bottom}$', 1.02, .2)\n    sigma_bottom = pm.Gamma('$\\sigma_{bottom}$', 0.3, 3)\n    y_bottom = pm.Normal('y_{bottom}', mu=mu_bottom, sd=sigma_bottom, observed=[1.02])\n\n    mu_t = pm.Deterministic('$\\mu_{thickness}$', mu_top - mu_bottom)\n    sigma_thick = pm.Gamma('$\\sigma_{thickness}$', 0.3, 3)\n    y = pm.Normal('y_{thickness}', mu=mu_t, sd=sigma_thick, observed=y_obs_list)"
      ]
    },
    {
      "cell_type": "markdown",
      "metadata": {},
      "source": [
        "Sampling\n--------\n\n\n"
      ]
    },
    {
      "cell_type": "code",
      "execution_count": null,
      "metadata": {
        "collapsed": false
      },
      "outputs": [],
      "source": [
        "with model:\n    prior = pm.sample_prior_predictive(1000)\n    trace = pm.sample(1000, discard_tuned_samples=False, cores=1)\n    post = pm.sample_posterior_predictive(trace)"
      ]
    },
    {
      "cell_type": "code",
      "execution_count": null,
      "metadata": {
        "collapsed": false
      },
      "outputs": [],
      "source": [
        "data = az.from_pymc3(trace=trace,\n                     prior=prior,\n                     posterior_predictive=post)\ndata"
      ]
    },
    {
      "cell_type": "code",
      "execution_count": null,
      "metadata": {
        "collapsed": false
      },
      "outputs": [],
      "source": [
        "az.plot_trace(data)\nplt.show()"
      ]
    },
    {
      "cell_type": "markdown",
      "metadata": {},
      "source": [
        "sphinx_gallery_thumbnail_number = 3\n\n"
      ]
    },
    {
      "cell_type": "code",
      "execution_count": null,
      "metadata": {
        "collapsed": false
      },
      "outputs": [],
      "source": [
        "az.plot_density([data, data.prior], shade=.9, data_labels=[\"Posterior\", \"Prior\"],\n                var_names=[\n                    '$\\\\mu_{top}$',\n                    '$\\\\mu_{bottom}$',\n                    '$\\\\mu_{thickness}$',\n                    '$\\\\sigma_{top}$',\n                    '$\\\\sigma_{bottom}$',\n                    '$\\\\sigma_{thickness}$'\n                ],\n                colors=[default_red, default_blue], bw=5);\nplt.show()"
      ]
    },
    {
      "cell_type": "code",
      "execution_count": null,
      "metadata": {
        "collapsed": false
      },
      "outputs": [],
      "source": [
        "p = pp.PlotPosterior(data)\n\np.create_figure(figsize=(9, 5), joyplot=False, marginal=True, likelihood=False)\np.plot_marginal(var_names=['$\\\\mu_{top}$', '$\\\\mu_{bottom}$'],\n                plot_trace=False, credible_interval=.70, kind='kde',\n                marginal_kwargs={\"bw\": 1}\n                )\nplt.show()"
      ]
    },
    {
      "cell_type": "code",
      "execution_count": null,
      "metadata": {
        "collapsed": false
      },
      "outputs": [],
      "source": [
        "p = pp.PlotPosterior(data)\np.create_figure(figsize=(9, 6), joyplot=True)\n\niteration = 500\np.plot_posterior(['$\\\\mu_{top}$', '$\\\\mu_{bottom}$'],\n                 ['$\\mu_{thickness}$', '$\\sigma_{thickness}$'],\n                 'y_{thickness}', iteration, marginal_kwargs={\"credible_interval\": 0.94,\n                                                              'marginal_kwargs': {\"bw\": 1},\n                                                              'joint_kwargs': {\"bw\": 1}})\nplt.show()"
      ]
    },
    {
      "cell_type": "code",
      "execution_count": null,
      "metadata": {
        "collapsed": false
      },
      "outputs": [],
      "source": [
        "az.plot_pair(data, divergences=False, var_names=['$\\\\mu_{top}$', '$\\\\mu_{bottom}$'])\nplt.show()"
      ]
    }
  ],
  "metadata": {
    "kernelspec": {
      "display_name": "Python 3",
      "language": "python",
      "name": "python3"
    },
    "language_info": {
      "codemirror_mode": {
        "name": "ipython",
        "version": 3
      },
      "file_extension": ".py",
      "mimetype": "text/x-python",
      "name": "python",
      "nbconvert_exporter": "python",
      "pygments_lexer": "ipython3",
      "version": "3.7.7"
    }
  },
  "nbformat": 4,
  "nbformat_minor": 0
}