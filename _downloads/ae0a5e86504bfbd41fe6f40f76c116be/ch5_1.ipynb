{
  "cells": [
    {
      "cell_type": "code",
      "execution_count": null,
      "metadata": {
        "collapsed": false
      },
      "outputs": [],
      "source": [
        "%matplotlib inline\nfrom pyvista import set_plot_theme\nset_plot_theme('document')"
      ]
    },
    {
      "cell_type": "markdown",
      "metadata": {},
      "source": [
        "\n5.1 - Probabilistic Modeling: Error Propagation\n================================================\n\nIn this example we will show how easy we can propagate uncertainty from\nGemPy parameters to final structural models.\n"
      ]
    },
    {
      "cell_type": "code",
      "execution_count": null,
      "metadata": {
        "collapsed": false
      },
      "outputs": [],
      "source": [
        "import sys, os\nsys.path.append(\"../../gempy\")\nos.environ[\"THEANO_FLAGS\"] = \"mode=FAST_RUN,device=cuda\"\n\n\nimport gempy as gp\nfrom gempy.bayesian.fields import compute_prob, calculate_ie_masked\nimport numpy as np\nimport matplotlib.pyplot as plt\n\nnp.random.seed(1234)"
      ]
    },
    {
      "cell_type": "markdown",
      "metadata": {},
      "source": [
        "Model definition\n----------------\n\nIn the previous example we assume constant thickness to be able to\nreduce the problem to one dimension. This keeps the probabilistic model\nfairly simple since we do not need to deel with complex geometric\nstructures. Unfortunaly, geology is all about dealing with complex three\ndimensional structures. In the moment data spread across the physical\nspace, the probabilistic model will have to expand to relate data from\ndifferent locations. In other words, the model will need to include\neither interpolations, regressions or some other sort of spatial\nfunctions. In this paper, we use an advance universal co-kriging\ninterpolator. Further implications of using this method will be discuss\nbelow but for this lets treat is a simple spatial interpolation in order\nto keep the focus on the constraction of the probabilistic model.\n\n\n"
      ]
    },
    {
      "cell_type": "code",
      "execution_count": null,
      "metadata": {
        "collapsed": false
      },
      "outputs": [],
      "source": [
        "geo_model = gp.create_model('2-layers')\ngp.init_data(geo_model, extent=[0, 12e3, -2e3, 2e3, 0, 4e3], resolution=[100, 10, 200])"
      ]
    },
    {
      "cell_type": "code",
      "execution_count": null,
      "metadata": {
        "collapsed": false
      },
      "outputs": [],
      "source": [
        "geo_model.add_surfaces('surface 1')\ngeo_model.add_surfaces('surface 2')\ngeo_model.add_surfaces('basement')\ndz = geo_model._grid.regular_grid.dz\ngeo_model.add_surface_values([dz, 0, 0], ['dz'])\ngeo_model.add_surface_values(np.array([2.6, 2.4, 3.2]), ['density'])"
      ]
    },
    {
      "cell_type": "code",
      "execution_count": null,
      "metadata": {
        "collapsed": false
      },
      "outputs": [],
      "source": [
        "geo_model.add_surface_points(3e3, 0, 3.05e3, 'surface 1')\ngeo_model.add_surface_points(9e3, 0, 3.05e3, 'surface 1')\n\ngeo_model.add_surface_points(3e3, 0, 1.02e3, 'surface 2')\ngeo_model.add_surface_points(9e3, 0, 1.02e3, 'surface 2')\n\ngeo_model.add_orientations(6e3, 0, 4e3, 'surface 1', [0, 0, 1])"
      ]
    },
    {
      "cell_type": "code",
      "execution_count": null,
      "metadata": {
        "collapsed": false
      },
      "outputs": [],
      "source": [
        "gp.plot_2d(geo_model)\nplt.show()"
      ]
    },
    {
      "cell_type": "markdown",
      "metadata": {},
      "source": [
        "Adding topography\n-----------------\n\n"
      ]
    },
    {
      "cell_type": "code",
      "execution_count": null,
      "metadata": {
        "collapsed": false
      },
      "outputs": [],
      "source": [
        "geo_model.set_topography()"
      ]
    },
    {
      "cell_type": "markdown",
      "metadata": {},
      "source": [
        "Setting up our area\n-------------------\nLets imagine we have two boreholes and 1 gravity device. From the boreholes\nwe can estimate the location of the interfaces of our layers. That will be\nenough to create the first model.\n\n"
      ]
    },
    {
      "cell_type": "code",
      "execution_count": null,
      "metadata": {
        "collapsed": false
      },
      "outputs": [],
      "source": [
        "def plot_geo_setting():\n    device_loc = np.array([[6e3, 0, 3700]])\n    p2d = gp.plot_2d(geo_model, show_topography=True)\n\n    well_1 = 3.5e3\n    well_2 = 3.62e3\n    p2d.axes[0].scatter([3e3], [well_1], marker='^', s=400, c='#71a4b3', zorder=10)\n    p2d.axes[0].scatter([9e3], [well_2], marker='^', s=400, c='#71a4b3', zorder=10)\n    p2d.axes[0].scatter(device_loc[:, 0], device_loc[:, 2], marker='x', s=400, c='#DA8886', zorder=10)\n\n    p2d.axes[0].vlines(3e3, .5e3, well_1, linewidth=4, color='gray')\n    p2d.axes[0].vlines(9e3, .5e3, well_2, linewidth=4, color='gray')\n    p2d.axes[0].vlines(3e3, .5e3, well_1)\n    p2d.axes[0].vlines(9e3, .5e3, well_2)\n    plt.savefig('model.svg')\n    plt.show()"
      ]
    },
    {
      "cell_type": "code",
      "execution_count": null,
      "metadata": {
        "collapsed": false
      },
      "outputs": [],
      "source": [
        "plot_geo_setting()"
      ]
    },
    {
      "cell_type": "markdown",
      "metadata": {},
      "source": [
        "Computing model\n---------------\n\n"
      ]
    },
    {
      "cell_type": "code",
      "execution_count": null,
      "metadata": {
        "collapsed": false
      },
      "outputs": [],
      "source": [
        "gp.set_interpolator(geo_model)"
      ]
    },
    {
      "cell_type": "code",
      "execution_count": null,
      "metadata": {
        "collapsed": false
      },
      "outputs": [],
      "source": [
        "gp.compute_model(geo_model)\nplot_geo_setting()"
      ]
    },
    {
      "cell_type": "markdown",
      "metadata": {},
      "source": [
        "Adding Random variables\n-----------------------\nAlthough that can work as a good approximation, the truth is that modelling\nhundreds of meters underground is not specially precise. That's why in many\ncases we would like to model our input data as probability distributions\ninstead deterministic values. GemPy is specially efficiency for these type of\ntasks:\n\n"
      ]
    },
    {
      "cell_type": "code",
      "execution_count": null,
      "metadata": {
        "collapsed": false
      },
      "outputs": [],
      "source": [
        "geo_model.modify_surface_points(2, Z=500)\ngp.compute_model(geo_model)\nplot_geo_setting()\n\nZ = np.random.normal(1000, 500, size=2)\ngeo_model.modify_surface_points([2, 3], Z=Z)\ngp.compute_model(geo_model)\nplot_geo_setting()"
      ]
    },
    {
      "cell_type": "markdown",
      "metadata": {},
      "source": [
        "Now we just sample from a random variable and loop it as much as we want:\n\n"
      ]
    },
    {
      "cell_type": "code",
      "execution_count": null,
      "metadata": {
        "collapsed": false
      },
      "outputs": [],
      "source": [
        "lith_blocks = np.array([])\nn_iterations = 50\nfor i in range(n_iterations):\n    Z = np.random.normal(1000, 500, size=2)\n    geo_model.modify_surface_points([2, 3], Z=Z)\n    gp.compute_model(geo_model)\n    lith_blocks = np.append(lith_blocks, geo_model.solutions.lith_block)\n\nlith_blocks = lith_blocks.reshape(n_iterations, -1)"
      ]
    },
    {
      "cell_type": "code",
      "execution_count": null,
      "metadata": {
        "collapsed": false
      },
      "outputs": [],
      "source": [
        "prob_block = compute_prob(lith_blocks)"
      ]
    },
    {
      "cell_type": "code",
      "execution_count": null,
      "metadata": {
        "collapsed": false
      },
      "outputs": [],
      "source": [
        "p2dp = gp.plot_2d(geo_model,\n                  show_lith=False, show_boundaries=False, show_data=False,\n                  regular_grid=prob_block[2],\n                  kwargs_regular_grid={'cmap': 'viridis',\n                                        'norm': None}\n                  )\nplt.show()"
      ]
    },
    {
      "cell_type": "code",
      "execution_count": null,
      "metadata": {
        "collapsed": false
      },
      "outputs": [],
      "source": [
        "entropy_block = calculate_ie_masked(prob_block)"
      ]
    },
    {
      "cell_type": "markdown",
      "metadata": {},
      "source": [
        "sphinx_gallery_thumbnail_number = 6\n\n"
      ]
    },
    {
      "cell_type": "code",
      "execution_count": null,
      "metadata": {
        "collapsed": false
      },
      "outputs": [],
      "source": [
        "p2dp = gp.plot_2d(geo_model,\n                  show_lith=False, show_boundaries=False, show_data=False,\n                  regular_grid=entropy_block,\n                  kwargs_regular_grid={'cmap': 'viridis',\n                                        'norm': None}\n                  )"
      ]
    }
  ],
  "metadata": {
    "kernelspec": {
      "display_name": "Python 3",
      "language": "python",
      "name": "python3"
    },
    "language_info": {
      "codemirror_mode": {
        "name": "ipython",
        "version": 3
      },
      "file_extension": ".py",
      "mimetype": "text/x-python",
      "name": "python",
      "nbconvert_exporter": "python",
      "pygments_lexer": "ipython3",
      "version": "3.7.7"
    }
  },
  "nbformat": 4,
  "nbformat_minor": 0
}