{
  "cells": [
    {
      "cell_type": "code",
      "execution_count": null,
      "metadata": {
        "collapsed": false
      },
      "outputs": [],
      "source": [
        "%matplotlib inline\nfrom pyvista import set_plot_theme\nset_plot_theme('document')"
      ]
    },
    {
      "cell_type": "markdown",
      "metadata": {},
      "source": [
        "\nUse ``GemPy`` to create a geological model as input to ``emg3d``\n================================================================\n"
      ]
    },
    {
      "cell_type": "code",
      "execution_count": null,
      "metadata": {
        "collapsed": false
      },
      "outputs": [],
      "source": [
        "import numpy as np\nimport gempy as gempy\nfrom matplotlib.colors import LogNorm, SymLogNorm"
      ]
    },
    {
      "cell_type": "code",
      "execution_count": null,
      "metadata": {
        "collapsed": false
      },
      "outputs": [],
      "source": [
        "import emg3d\nimport pyvista\nimport discretize"
      ]
    },
    {
      "cell_type": "markdown",
      "metadata": {},
      "source": [
        "Creating a geological model\n---------------------------\n\nWe start by using the model given in `Chapter\n1.1 <https://nbviewer.jupyter.org/github/cgre-aachen/gempy/blob/master/notebooks/tutorials/ch1-1_Basics.ipynb>`__\nof the GemPy documentation. It is a nice, made-up model of a folded\nstructure with a fault.\n\n**Changes made:** We load the csv-files from the above example in\nChapter 1.1. I changed the stratigraphic unit names, and moved the model\n2 km down.\n\nInstead of reading a csv-file we could initiate an empty instance and\nthen add points and orientations after that by, e.g., providing numpy\narrays.\n\n\n"
      ]
    },
    {
      "cell_type": "markdown",
      "metadata": {},
      "source": [
        "Initiate a model\n\n"
      ]
    },
    {
      "cell_type": "code",
      "execution_count": null,
      "metadata": {
        "collapsed": false
      },
      "outputs": [],
      "source": [
        "geo_model = gempy.create_model('gempy-discretize-emg3d')\n\ndata_path = 'https://raw.githubusercontent.com/cgre-aachen/gempy_data/master/'\n\n# Importing the data from CSV-files and setting extent and resolution\ngempy.init_data(\n    geo_model,\n    [0, 2000., 0, 2000., -2000, 40.], [50, 50, 51],  # This is a regular grid, mainly for plotting purposes\n    path_o=data_path+\"/data/input_data/tut_chapter1/simple_fault_model_orientations_geophy.csv\",\n    path_i=data_path+\"/data/input_data/tut_chapter1/simple_fault_model_points_geophy.csv\",\n)"
      ]
    },
    {
      "cell_type": "markdown",
      "metadata": {},
      "source": [
        "Initiate the stratigraphies and faults, and add resistivities to lithology\n--------------------------------------------------------------------------\n\n\n"
      ]
    },
    {
      "cell_type": "markdown",
      "metadata": {},
      "source": [
        "Add an air-layer: Horizontal layer at z=0m\n\n"
      ]
    },
    {
      "cell_type": "code",
      "execution_count": null,
      "metadata": {
        "collapsed": false
      },
      "outputs": [],
      "source": [
        "geo_model.add_surfaces('air')\ngeo_model.add_surface_points(0, 0, 0, 'air')\ngeo_model.add_surface_points(0, 0, 0, 'air')\ngeo_model.add_orientations(0, 0, 0, 'air', [0, 0, 1])\n\n# Add a Series for the air layer; this series will not be cut by the fault\ngeo_model.add_series('Air_Series')\ngeo_model.modify_order_series(2, 'Air_Series')\ngempy.map_series_to_surfaces(geo_model, {'Air_Series': 'air'})\n\n# Map the different series\ngempy.map_series_to_surfaces(\n    geo_model,\n    {\n        \"Fault_Series\": 'fault',\n        \"Air_Series\": ('air'),\n        \"Strat_Series\": ('seawater', 'overburden', 'target', 'underburden', 'basement')\n    },\n    remove_unused_series=True\n)"
      ]
    },
    {
      "cell_type": "code",
      "execution_count": null,
      "metadata": {
        "collapsed": false
      },
      "outputs": [],
      "source": [
        "geo_model.rename_series({'Main_Fault': 'Fault_Series'})"
      ]
    },
    {
      "cell_type": "markdown",
      "metadata": {},
      "source": [
        "Set which series the fault series is cutting\n\n"
      ]
    },
    {
      "cell_type": "code",
      "execution_count": null,
      "metadata": {
        "collapsed": false
      },
      "outputs": [],
      "source": [
        "geo_model.set_is_fault('Fault_Series')\ngeo_model.faults.faults_relations_df"
      ]
    },
    {
      "cell_type": "markdown",
      "metadata": {},
      "source": [
        "Model generation\n----------------\n\n\n"
      ]
    },
    {
      "cell_type": "code",
      "execution_count": null,
      "metadata": {
        "collapsed": false
      },
      "outputs": [],
      "source": [
        "gempy.set_interpolator(\n    geo_model,\n    compile_theano=True,\n    theano_optimizer='fast_compile',\n    verbose=[]\n)"
      ]
    },
    {
      "cell_type": "code",
      "execution_count": null,
      "metadata": {
        "collapsed": false
      },
      "outputs": [],
      "source": [
        "sol = gempy.compute_model(geo_model, compute_mesh=True)"
      ]
    },
    {
      "cell_type": "markdown",
      "metadata": {},
      "source": [
        "Plot lithologies (colour-code corresponds to lithologies)\n\n"
      ]
    },
    {
      "cell_type": "code",
      "execution_count": null,
      "metadata": {
        "collapsed": false
      },
      "outputs": [],
      "source": [
        "_ = gempy.plot_2d(geo_model, cell_number=25, direction='y', show_data=True)"
      ]
    },
    {
      "cell_type": "markdown",
      "metadata": {},
      "source": [
        "Let\u2019s start with a discretize mesh for a CSEM survey\n----------------------------------------------------\n\nSource location and frequency\n\n\n"
      ]
    },
    {
      "cell_type": "code",
      "execution_count": null,
      "metadata": {
        "collapsed": false
      },
      "outputs": [],
      "source": [
        "src = [1000, 1000, -500, 0, 0]  # x-directed e-source at (1000, 1000, -500)\nfreq = 1.0  # Frequency"
      ]
    },
    {
      "cell_type": "markdown",
      "metadata": {},
      "source": [
        "Get calculation domain as a function of frequency (resp., skin depth)\n\n"
      ]
    },
    {
      "cell_type": "code",
      "execution_count": null,
      "metadata": {
        "collapsed": false
      },
      "outputs": [],
      "source": [
        "hx_min, xdomain = emg3d.utils.get_domain(\n        x0=src[0], freq=freq, limits=[0, 2000], min_width=[5, 100])\nhz_min, zdomain = emg3d.utils.get_domain(\n        freq=freq, limits=[-2000, 0], min_width=[5, 20], fact_pos=40)\n\n# Create stretched grid\nnx = 2 ** 6\nhx = emg3d.utils.get_stretched_h(hx_min, xdomain, nx, src[0])\nhy = emg3d.utils.get_stretched_h(hx_min, xdomain, nx, src[1])\nhz = emg3d.utils.get_stretched_h(hz_min, zdomain, nx * 2, x0=src[2], x1=0)\ngrid = discretize.TensorMesh(\n        [hx, hy, hz], x0=(xdomain[0], xdomain[0], zdomain[0]))\ngrid"
      ]
    },
    {
      "cell_type": "markdown",
      "metadata": {},
      "source": [
        "Create a smaller grid without the massive air-layer\n~~~~~~~~~~~~~~~~~~~~~~~~~~~~~~~~~~~~~~~~~~~~~~~~~~~\n\n(The massive air-layer is used to push the boundary far away for the\ncalculation.)\n\n\n"
      ]
    },
    {
      "cell_type": "code",
      "execution_count": null,
      "metadata": {
        "collapsed": false
      },
      "outputs": [],
      "source": [
        "c_nz = 70\ncgrid = discretize.TensorMesh([grid.hx, grid.hy, grid.hz[:-c_nz]], x0=grid.x0)"
      ]
    },
    {
      "cell_type": "markdown",
      "metadata": {},
      "source": [
        "Put resistivities to stratigraphic units\n----------------------------------------\n\nWe could define the resistivities before, but currently it is difficult\nfor GemPy to interpolate for something like resistivities with a very\nwide range of values (several orders of magnitudes). So we can simply\nmap it here to the ``id`` (Note: GemPy does not do interpolation for\ncells which lie in different stratigraphies).\n\n\n"
      ]
    },
    {
      "cell_type": "markdown",
      "metadata": {},
      "source": [
        "First, we have to get the id's for our mesh\n\n"
      ]
    },
    {
      "cell_type": "code",
      "execution_count": null,
      "metadata": {
        "collapsed": false
      },
      "outputs": [],
      "source": [
        "sol = gempy.compute_model(geo_model, at=grid.gridCC)"
      ]
    },
    {
      "cell_type": "code",
      "execution_count": null,
      "metadata": {
        "collapsed": false
      },
      "outputs": [],
      "source": [
        "geo_model.surfaces"
      ]
    },
    {
      "cell_type": "markdown",
      "metadata": {},
      "source": [
        "Now, we convert the id's to resistivities\n\n"
      ]
    },
    {
      "cell_type": "code",
      "execution_count": null,
      "metadata": {
        "collapsed": false
      },
      "outputs": [],
      "source": [
        "res = sol.custom[0][0, :grid.nC]\n\nres[res == 1] = 2e14  # air\n# id=2 is the fault\nres[np.round(res) == 3] = 0.3  # sea water\nres[np.round(res) == 4] = 1  # overburden\nres[np.round(res) == 5] = 50  # target\nres[np.round(res) == 6] = 1.5  # underburden\nres[np.round(res) == 7] = 200  # basement"
      ]
    },
    {
      "cell_type": "markdown",
      "metadata": {},
      "source": [
        "Plot the input model\n--------------------\n\n\n"
      ]
    },
    {
      "cell_type": "markdown",
      "metadata": {},
      "source": [
        "sphinx_gallery_thumbnail_number = 2\n\n"
      ]
    },
    {
      "cell_type": "code",
      "execution_count": null,
      "metadata": {
        "collapsed": false
      },
      "outputs": [],
      "source": [
        "dataset = grid.toVTK({'res': np.log10(res)})\ndataset = dataset.clip_box(bounds=(0, 2000, 0, 2000, -2000, 0), invert=False)\n\n# Create the rendering scene and add a grid axes\np = pyvista.Plotter(notebook=True)\np.show_grid(location='outer')\n\n# Add spatially referenced data to the scene\ndparams = {'rng': np.log10([0.3, 200]), 'cmap': 'viridis', 'show_edges': False}\nxyz = (1500, 500, -1500)\np.add_mesh(dataset.slice('x', xyz), name='x-slice', **dparams)\np.add_mesh(dataset.slice('y', xyz), name='y-slice', **dparams)\n# p.add_mesh(dataset.slice('z', xyz), name='z-slice', **dparams)\n\n# Add a layer as 3D\np.add_mesh(dataset.threshold([1.69, 1.7]), name='vol', **dparams)\n\n# Show the scene!\np.show()"
      ]
    },
    {
      "cell_type": "markdown",
      "metadata": {},
      "source": [
        "Calculate the resistivities\n---------------------------\n\n\n"
      ]
    },
    {
      "cell_type": "markdown",
      "metadata": {},
      "source": [
        "Create model\n\n"
      ]
    },
    {
      "cell_type": "code",
      "execution_count": null,
      "metadata": {
        "collapsed": false
      },
      "outputs": [],
      "source": [
        "model = emg3d.utils.Model(grid, res)\n\n# Source field\nsfield = emg3d.utils.get_source_field(grid, src, freq, 0)\n\n# Calculate the efield\npfield = emg3d.solve(grid, model, sfield, sslsolver=True, verb=3)"
      ]
    },
    {
      "cell_type": "code",
      "execution_count": null,
      "metadata": {
        "collapsed": false
      },
      "outputs": [],
      "source": [
        "cgrid.plot_3d_slicer(\n    pfield.fx[:, :, :-70].ravel('F'), zslice=-1000, view='abs', vType='Ex',\n    clim=[1e-13, 1e-8], pcolorOpts={'cmap': 'viridis', 'norm': LogNorm()})"
      ]
    },
    {
      "cell_type": "code",
      "execution_count": null,
      "metadata": {
        "collapsed": false
      },
      "outputs": [],
      "source": [
        "emg3d.__version__"
      ]
    }
  ],
  "metadata": {
    "kernelspec": {
      "display_name": "Python 3",
      "language": "python",
      "name": "python3"
    },
    "language_info": {
      "codemirror_mode": {
        "name": "ipython",
        "version": 3
      },
      "file_extension": ".py",
      "mimetype": "text/x-python",
      "name": "python",
      "nbconvert_exporter": "python",
      "pygments_lexer": "ipython3",
      "version": "3.7.7"
    }
  },
  "nbformat": 4,
  "nbformat_minor": 0
}