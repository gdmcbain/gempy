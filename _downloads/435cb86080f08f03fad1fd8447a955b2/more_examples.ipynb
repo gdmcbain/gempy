{
  "cells": [
    {
      "cell_type": "code",
      "execution_count": null,
      "metadata": {
        "collapsed": false
      },
      "outputs": [],
      "source": [
        "%matplotlib inline\nfrom pyvista import set_plot_theme\nset_plot_theme('document')"
      ]
    },
    {
      "cell_type": "markdown",
      "metadata": {},
      "source": [
        "\nGemPy Models - Some More Complex Examples\n-----------------------------------------\n"
      ]
    },
    {
      "cell_type": "markdown",
      "metadata": {},
      "source": [
        "Importing gempy\n\n"
      ]
    },
    {
      "cell_type": "code",
      "execution_count": null,
      "metadata": {
        "collapsed": false
      },
      "outputs": [],
      "source": [
        "import gempy as gp\n\n# Aux imports\nimport numpy as np\nimport pandas as pn\nimport matplotlib\nimport theano"
      ]
    },
    {
      "cell_type": "markdown",
      "metadata": {},
      "source": [
        "Choose a model and load the corresponding data set in the line below\n~~~~~~~~~~~~~~~~~~~~~~~~~~~~~~~~~~~~~~~~~~~~~~~~~~~~~~~~~~~~~~~~~~~~\n\nModel 1: Discordant layering\n\nModel 2: Anticlinal layering\n\nModel 3: Parallel steep dipping layers\n\nModel 5: Normal faulting\n\nModel 6: Synclinal layering\n\nModel 7: Graben structure with two faults\n\nModel 8: Similar to Model 5\n\nModel 9: Parallel flat dipping layers\n\n\n"
      ]
    },
    {
      "cell_type": "code",
      "execution_count": null,
      "metadata": {
        "collapsed": false
      },
      "outputs": [],
      "source": [
        "data_path = 'https://raw.githubusercontent.com/cgre-aachen/gempy_data/master/'"
      ]
    },
    {
      "cell_type": "code",
      "execution_count": null,
      "metadata": {
        "collapsed": false
      },
      "outputs": [],
      "source": [
        "def create_example(name_model, interpolator=None, save_pickle=False, plot_section=True):\n    \"\"\"\n    Create an inter_data from one of the examples data_set\n    \n    Attr:\n        name_model (str): name of the model that you want to generate. It has to be in ['Model 1' ,'Model 2', 'Model 3', 'Model 4','Model 5' 'Model 6','Model 7',\n                          'Model 8', 'Model 9']\n        save_pickle (bool, str): Save to a pickle the interp_data object. You can pass the path as a string otherwse\n                                the default name will be given\n        plot_section (bool)\n    \n    \"\"\"\n    name_list = np.array(['Model 1', 'Model 2', 'Model 3', 'Model 4', 'Model 5', 'Model 6', 'Model 7',\n                          'Model 8', 'Model 9'])\n    assert name_model in name_list, 'Name model must be in the following list: ' + str(name_list)\n    # Extract number of the model\n    n_model = name_model[-1]\n\n    # Load right gempy geodata\n    geo_data = gp.create_data(name_model, extent=[0, 2000, 0, 2000, 0, 1600], resolution=[50, 50, 50],\n                              path_o=data_path + \"/data/input_data/lisa_models/foliations\" + n_model + \".csv\",\n                              path_i=data_path + \"/data/input_data/lisa_models/interfaces\" + n_model + \".csv\")\n\n    # Set the right sequential pile\n    subset_list_1 = np.array(['Model 1'])\n    subset_list_2 = np.array(['Model 5', 'Model 8'])\n    subset_list_3 = np.array(['Model 2', 'Model 3', 'Model 9', 'Model 6'])\n    subset_list_4 = np.array(['Model 7'])\n    ### Model 1 - Discordant layering ###\n    if name_model in subset_list_1:\n        gp.map_series_to_surfaces(geo_data, {\"Strat_Series_1\": ('Sandstone', 'Siltstone', 'Shale'),\n                                             \"Strat_Series_2\": ('Sandstone2', 'Siltstone2', 'Shale2')},\n                                  )\n    ### Model 5 - One normal Fault ###\n    ### Model 8 - ###\n    elif name_model in subset_list_2:\n        gp.map_series_to_surfaces(geo_data, {\"Fault_Series\": 'Main_Fault',\n                                             \"Strat_Series\": (\n                                             'Sandstone', 'Siltstone', 'Shale', 'Sandstone_2', 'Schist', 'Gneiss')},\n                                  )\n        geo_data.set_is_fault(['Fault_Series'])\n    elif name_model in subset_list_3:\n        ### Model 2 - Aufw\u00f6lbung (durch Salzstock?) ###\n        ### Model 3+9 - Parallele NNE Schichtung ohne Verwerfung ###\n        ### Model 6 - Mulde ###\n        gp.map_series_to_surfaces(geo_data, {\n            \"Strat_Series\": ('Sandstone', 'Siltstone', 'Shale', 'Sandstone_2', 'Schist', 'Gneiss')},\n                                  )\n\n    elif name_model in subset_list_4:\n        ### Model 7 - Graben ###\n        gp.map_series_to_surfaces(geo_data, {\"Fault_1\": 'Fault_1', \"Fault_2\": 'Fault_2',\n                                             \"Strat_Series\": (\n                                             'Sandstone', 'Siltstone', 'Shale', 'Sandstone_2', 'Schist', 'Gneiss')},\n                                  )\n        geo_data.set_is_fault(['Fault_1', 'Fault_2'])\n\n    else:\n        print('You would never reach this point. Look for the bug')\n\n    # Interpolation and Computation\n    if interpolator is None:\n        interp_data = gp.set_interpolator(geo_data, theano_optimizer='fast_run')\n    else:\n        interp_data = interpolator\n        geo_data.set_theano_function(interpolator)\n    sol = gp.compute_model(geo_data)\n\n    if plot_section is True:\n        # 2D Plot\n        gp.plot_2d(geo_data, cell_number=25,\n                             direction='y', show_data=True)\n        gp.plot_3d(geo_data)\n\n    if save_pickle is not False:\n        if type(save_pickle) is str:\n            gp.save_model_to_pickle(geo_data, save_pickle)\n        else:\n            gp.save_model_to_pickle(geo_data, 'lisa-' + str(n_model))\n\n    gp.save_model(geo_data)\n\n    return interp_data"
      ]
    },
    {
      "cell_type": "code",
      "execution_count": null,
      "metadata": {
        "collapsed": false
      },
      "outputs": [],
      "source": [
        "def generate_all_models(list_of_models):\n    for e, n in enumerate(list_of_models):\n        if e == 0:\n            interp = create_example(n, None, save_pickle=False, plot_section=True)\n        else:\n            create_example(n, interp, save_pickle=False, plot_section=True)"
      ]
    },
    {
      "cell_type": "markdown",
      "metadata": {},
      "source": [
        "Discordant layering 1\n=====================\n\n"
      ]
    },
    {
      "cell_type": "code",
      "execution_count": null,
      "metadata": {
        "collapsed": false
      },
      "outputs": [],
      "source": [
        "create_example('Model 1')"
      ]
    },
    {
      "cell_type": "markdown",
      "metadata": {},
      "source": [
        "Discordant layering 2\n=====================\n\n"
      ]
    },
    {
      "cell_type": "code",
      "execution_count": null,
      "metadata": {
        "collapsed": false
      },
      "outputs": [],
      "source": [
        "create_example('Model 2')"
      ]
    },
    {
      "cell_type": "markdown",
      "metadata": {},
      "source": [
        "Discordant layering 3\n=====================\n\n"
      ]
    },
    {
      "cell_type": "code",
      "execution_count": null,
      "metadata": {
        "collapsed": false
      },
      "outputs": [],
      "source": [
        "create_example('Model 3')"
      ]
    },
    {
      "cell_type": "markdown",
      "metadata": {},
      "source": [
        "One normal Fault 1\n==================\n\n"
      ]
    },
    {
      "cell_type": "code",
      "execution_count": null,
      "metadata": {
        "collapsed": false
      },
      "outputs": [],
      "source": [
        "create_example('Model 5')"
      ]
    },
    {
      "cell_type": "markdown",
      "metadata": {},
      "source": [
        "Fold\n====\n\n"
      ]
    },
    {
      "cell_type": "code",
      "execution_count": null,
      "metadata": {
        "collapsed": false
      },
      "outputs": [],
      "source": [
        "create_example('Model 6')"
      ]
    },
    {
      "cell_type": "markdown",
      "metadata": {},
      "source": [
        "Graben\n======\n\n"
      ]
    },
    {
      "cell_type": "code",
      "execution_count": null,
      "metadata": {
        "collapsed": false
      },
      "outputs": [],
      "source": [
        "create_example('Model 7')"
      ]
    },
    {
      "cell_type": "markdown",
      "metadata": {},
      "source": [
        "One normal Fault 2\n===================\n\n"
      ]
    },
    {
      "cell_type": "code",
      "execution_count": null,
      "metadata": {
        "collapsed": false
      },
      "outputs": [],
      "source": [
        "create_example('Model 8')"
      ]
    },
    {
      "cell_type": "markdown",
      "metadata": {},
      "source": [
        "Horizontal tilted\n=================\n\n"
      ]
    },
    {
      "cell_type": "code",
      "execution_count": null,
      "metadata": {
        "collapsed": false
      },
      "outputs": [],
      "source": [
        "create_example('Model 9')"
      ]
    },
    {
      "cell_type": "code",
      "execution_count": null,
      "metadata": {
        "collapsed": false
      },
      "outputs": [],
      "source": [
        "# generate_all_models(['Model 1', 'Model 2', 'Model 3',\n#                     'Model 5', 'Model 6', 'Model 7',\n#                     'Model 8', 'Model 9'])"
      ]
    }
  ],
  "metadata": {
    "kernelspec": {
      "display_name": "Python 3",
      "language": "python",
      "name": "python3"
    },
    "language_info": {
      "codemirror_mode": {
        "name": "ipython",
        "version": 3
      },
      "file_extension": ".py",
      "mimetype": "text/x-python",
      "name": "python",
      "nbconvert_exporter": "python",
      "pygments_lexer": "ipython3",
      "version": "3.7.7"
    }
  },
  "nbformat": 4,
  "nbformat_minor": 0
}